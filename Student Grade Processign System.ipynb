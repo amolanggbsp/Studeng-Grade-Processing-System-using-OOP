{
 "cells": [
  {
   "cell_type": "code",
   "execution_count": 28,
   "metadata": {},
   "outputs": [
    {
     "name": "stdout",
     "output_type": "stream",
     "text": [
      "Overwriting student.py\n"
     ]
    }
   ],
   "source": [
    "%%writefile student.py\n",
    "class Student:\n",
    "    def __init__(self, num, name, kor, eng, math):\n",
    "        self._num = num\n",
    "        self._name = name\n",
    "        self._kor = kor\n",
    "        self._eng = eng\n",
    "        self._math = math\n",
    "        \n",
    "        self._total = 0\n",
    "        self._avg =0.0\n",
    "        self._order = 0\n",
    "        \n",
    "        self._calculate_total()\n",
    "        self._calculate_avg()\n",
    "    def _calculate_total(self):\n",
    "        self._total = self._kor + self._eng + self._math\n",
    "    def _calculate_avg(self):\n",
    "        self._avg = self._total/3\n",
    "\n",
    "        \n",
    "    @property\n",
    "    def num(self):\n",
    "        return self._num\n",
    "\n",
    "    @property\n",
    "    def name(self):\n",
    "        return self._name\n",
    "\n",
    "    @property\n",
    "    def kor(self):\n",
    "        return self._kor\n",
    "\n",
    "    @property\n",
    "    def eng(self):\n",
    "        return self._eng\n",
    "\n",
    "    @property\n",
    "    def math(self):\n",
    "        return self._math\n",
    "\n",
    "    @property\n",
    "    def total(self):\n",
    "        return self._total\n",
    "\n",
    "    @property\n",
    "    def avg(self):\n",
    "        return self._avg\n",
    "\n",
    "    @property\n",
    "    def order(self):\n",
    "        return self._order\n",
    "\n",
    "    @order.setter\n",
    "    def order(self, value):\n",
    "        self._order = value\n",
    "\n"
   ]
  },
  {
   "cell_type": "code",
   "execution_count": 29,
   "metadata": {},
   "outputs": [],
   "source": [
    "from student import Student\n",
    "class StudentGradingSystem(object):\n",
    "    def __init__(self):\n",
    "        self._students = []\n",
    "        \n",
    "        self._class_avg = 0\n",
    "        self._kor_avg = 0\n",
    "        self._eng_avg = 0\n",
    "        self._math_avg = 0\n",
    "        \n",
    "    def _calculate_student_order(self):\n",
    "        temp_students = sorted(self._students, key = lambda x: x.total, reverse = True)\n",
    "        for student in temp_students:\n",
    "            student.order = sum (s.avg > student.avg for s in temp_students) +1\n",
    "        self._students = temp_students \n",
    "    \n",
    "    def _calculate_class_avg(self):\n",
    "        total = 0\n",
    "        for student in self._students:\n",
    "            total = total + student.total\n",
    "        self._class_avg = total/ len(self._students)\n",
    "    \n",
    "    def _calculate_kor_avg(self):\n",
    "        total = 0 \n",
    "        for student in self._students:\n",
    "            total = total + student.kor\n",
    "        self._kor_avg = total/ len(self._students)\n",
    "    def _calculate_eng_avg(self):\n",
    "        total = 0 \n",
    "        for student in self._students:\n",
    "            total = total + student.eng\n",
    "        self._eng_avg = total/ len(self._students)\n",
    "    \n",
    "    def _calculate_math_avg(self):\n",
    "        total = 0 \n",
    "        for student in self._students:\n",
    "            total = total + student.math\n",
    "        self._math_avg = total/ len(self._students)\n",
    "    def _calculate_class_information(self):\n",
    "        self._calculate_class_avg()\n",
    "        self._calculate_kor_avg()\n",
    "        self._calculate_eng_avg()\n",
    "        self._calculate_math_avg()\n",
    "        \n",
    "    def register_student(self, student):\n",
    "        self._students.append(student)\n",
    "        \n",
    "    def process(self):\n",
    "        self._calculate_student_order()\n",
    "        self._calculate_class_information()\n",
    "        \n",
    "    def print_students(self):\n",
    "        for student in self._students:\n",
    "            print(\"번호: %s, 이름: %s, 국어: %d, 영어: %d, 수학: %d, 총점: %d, 평균: %.2f, 등수: %d\" %(student.num, student.name,\n",
    "                                                                                      student.kor, student.eng, student.math, \n",
    "                                                                                      student.total, student.avg, student.order))\n",
    "    def print_best_eng(self):\n",
    "        print(\"번호: %s, 이름: %s, 영어:%d\" %(student.num, student.name, student.eng))\n",
    "        \n",
    "    def print_best_kor(self):\n",
    "        print(\"번호: %s, 이름: %s, 영어:%d\" %(student.num, student.name, student.kor))\n",
    "        \n",
    "    def print_best_math(self):\n",
    "        print(\"번호: %s, 이름: %s, 영어:%d\" %(student.num, student.name, student.math))\n",
    "        \n",
    "    def print_class_information(self):\n",
    "        print(\"총점 반평균: %.2f\" % self._class_avg)\n",
    "        print(\"국어 반평균: %.2f\" % self._kor_avg)\n",
    "        print(\"영어 반평균: %.2f\" % self._eng_avg)\n",
    "        print(\"수학 반평균: %.2f\" % self._math_avg)\n",
    "    \n"
   ]
  },
  {
   "cell_type": "code",
   "execution_count": 30,
   "metadata": {},
   "outputs": [],
   "source": [
    "def checkTime(func):\n",
    "    import time\n",
    "\n",
    "    def newFunc(*args, **kwargs):\n",
    "        start = time.time()\n",
    "        func(*args, **kwargs)\n",
    "        end = time.time()\n",
    "        \n",
    "        print(\"\\n실행시간 : \",end - start)\n",
    "\n",
    "    return newFunc"
   ]
  },
  {
   "cell_type": "code",
   "execution_count": 31,
   "metadata": {},
   "outputs": [],
   "source": [
    "class WrongStudentRecord(Exception):\n",
    "    def __init__(self, msg):\n",
    "        self._message = msg\n",
    "\n",
    "def check_parameter():\n",
    "    try:\n",
    "        main()\n",
    "    except IndexError:\n",
    "        raise WrongStudentRecord(\"잘못된 성적 데이터가 있습니다. \\n성적 처리 시스템이 비정상 종료합니다.\")\n",
    "    except ValueError:\n",
    "        raise WrongStudentRecord(\"점수에 숫자가 아닌 부분이 있습니다. \\n성적 처리 시스템이 비정상 종료합니다.\")\n",
    "\n",
    "@checkTime\n",
    "def error_case():\n",
    "    print()   \n",
    "    print(\"총점 반 평균: 0.00\\n국어 반 평균: 0.00\\n영어 반 평균: 0.00\\n수학 반 평균: 0.00\")"
   ]
  },
  {
   "cell_type": "code",
   "execution_count": 39,
   "metadata": {},
   "outputs": [
    {
     "name": "stdout",
     "output_type": "stream",
     "text": [
      "Overwriting student.txt\n"
     ]
    }
   ],
   "source": [
    "%%writefile student.txt\n",
    "1 홍길일 90 80 85\n",
    "2 홍길이 90 85 90\n",
    "3 홍길삼 80 80 80\n",
    "4 홍길사 90 92 83\n",
    "5 홍길오 85 85 90"
   ]
  },
  {
   "cell_type": "code",
   "execution_count": 40,
   "metadata": {},
   "outputs": [],
   "source": [
    "@checkTime\n",
    "def main( ):\n",
    "    student_grade_system = StudentGradingSystem()\n",
    "    data = open(\"student.txt\", \"r\", encoding = \"utf-8\")\n",
    "    \n",
    "    for lines in data:\n",
    "        stu = lines.split()\n",
    "        stu1 = stu[0]\n",
    "        stu2 = stu[1]\n",
    "        stu3 = int(stu[2])\n",
    "        stu4 = int(stu[3])\n",
    "        stu5 = int(stu[4])\n",
    "        \n",
    "        if len(stu) >5:\n",
    "            raise WrongStudentRecord(\"잘못된 성적 데이터가 있습니다. \\n성적 처리 시스템이 비정상 종료합니다.\")\n",
    "        \n",
    "        info = Student(stu1, stu2, stu3, stu4, stu5)\n",
    "        student_grade_system.register_student(info)\n",
    "        \n",
    "    \n",
    "    student_grade_system.process()\n",
    "    student_grade_system.print_students()\n",
    "    print()\n",
    "    student_grade_system.print_class_information()\n",
    "    \n",
    "    a = sorted(student_grade_system._students, key = lambda x: x.num)\n",
    "    \n",
    "    \n",
    "    num = []\n",
    "    name = []\n",
    "    kor = []\n",
    "    eng = []\n",
    "    math = []\n",
    "    \n",
    " \n",
    "    for i in a:\n",
    "        math.append(i.math)\n",
    "        num.append(i.num)\n",
    "        name.append(i.name)\n",
    "        eng.append(i.eng)\n",
    "        kor.append(i.kor)\n",
    "\n",
    "\n",
    "    for i in range(len(num)):\n",
    "        if math[i] < 0 or math[i] >100:\n",
    "            raise WrongStudentRecord(\"수학 점수는 0-100 사이의 숫자여야 합니다. \\n성적 처리 시스템이 비정상 종료합니다.\")\n",
    "        if kor[i] < 0 or kor[i] >100:\n",
    "            raise WrongStudentRecord(\"국어 점수는 0-100 사이의 숫자여야 합니다. \\n성적 처리 시스템이 비정상 종료합니다.\")\n",
    "        if eng[i] < 0 or eng[i] >100:\n",
    "            raise WrongStudentRecord(\"영어 점수는 0-100 사이의 숫자여야 합니다. \\n성적 처리 시스템이 비정상 종료합니다.\")\n",
    "    \n",
    "    print()\n",
    "    subject = input(\"과목: \")\n",
    "    \n",
    "    if subject == \"math\": \n",
    "        print(\"최고점을 받은 학생들\")\n",
    "        for i in a:\n",
    "            if i.math == max(math):\n",
    "                print(\"번호: %s, 이름: %s, 수학: %d\" %(i.num, i.name, i.math))\n",
    "    elif subject == \"eng\": \n",
    "        print(\"최고점을 받은 학생들\")\n",
    "        for i in a:\n",
    "            if i.eng == max(eng):\n",
    "                print(\"번호: %s, 이름: %s, 영어: %d\" %(i.num, i.name, i.eng))\n",
    "                \n",
    "    elif subject == \"kor\": \n",
    "        print(\"최고점을 받은 학생들\")\n",
    "        for i in a:\n",
    "            if i.kor == max(kor):\n",
    "                print(\"번호: %s, 이름: %s, 국어: %d\" %(i.num, i.name, i.kor))\n",
    "    else:\n",
    "        raise WrongStudentRecord(\"그런 과목은 존재하지 않습니다. \\n성적 처리 시스템이 비정상 종료합니다.\")\n"
   ]
  },
  {
   "cell_type": "code",
   "execution_count": 41,
   "metadata": {},
   "outputs": [
    {
     "name": "stdout",
     "output_type": "stream",
     "text": [
      "번호: 2, 이름: 홍길이, 국어: 90, 영어: 85, 수학: 90, 총점: 265, 평균: 88.33, 등수: 1\n",
      "번호: 4, 이름: 홍길사, 국어: 90, 영어: 92, 수학: 83, 총점: 265, 평균: 88.33, 등수: 1\n",
      "번호: 5, 이름: 홍길오, 국어: 85, 영어: 85, 수학: 90, 총점: 260, 평균: 86.67, 등수: 3\n",
      "번호: 1, 이름: 홍길일, 국어: 90, 영어: 80, 수학: 85, 총점: 255, 평균: 85.00, 등수: 4\n",
      "번호: 3, 이름: 홍길삼, 국어: 80, 영어: 80, 수학: 80, 총점: 240, 평균: 80.00, 등수: 5\n",
      "\n",
      "총점 반평균: 257.00\n",
      "국어 반평균: 87.00\n",
      "영어 반평균: 84.40\n",
      "수학 반평균: 85.60\n",
      "\n",
      "과목: eng\n",
      "최고점을 받은 학생들\n",
      "번호: 4, 이름: 홍길사, 영어: 92\n",
      "\n",
      "실행시간 :  13.819611549377441\n"
     ]
    }
   ],
   "source": [
    "if __name__ == \"__main__\":\n",
    "    try:\n",
    "        check_parameter()\n",
    "    except WrongStudentRecord as e:\n",
    "        print()\n",
    "        print(e.args[0])\n",
    "        error_case()\n",
    "        "
   ]
  },
  {
   "cell_type": "code",
   "execution_count": 42,
   "metadata": {},
   "outputs": [
    {
     "name": "stdout",
     "output_type": "stream",
     "text": [
      "번호: 2, 이름: 홍길이, 국어: 90, 영어: 85, 수학: 90, 총점: 265, 평균: 88.33, 등수: 1\n",
      "번호: 4, 이름: 홍길사, 국어: 90, 영어: 92, 수학: 83, 총점: 265, 평균: 88.33, 등수: 1\n",
      "번호: 5, 이름: 홍길오, 국어: 85, 영어: 85, 수학: 90, 총점: 260, 평균: 86.67, 등수: 3\n",
      "번호: 1, 이름: 홍길일, 국어: 90, 영어: 80, 수학: 85, 총점: 255, 평균: 85.00, 등수: 4\n",
      "번호: 3, 이름: 홍길삼, 국어: 80, 영어: 80, 수학: 80, 총점: 240, 평균: 80.00, 등수: 5\n",
      "\n",
      "총점 반평균: 257.00\n",
      "국어 반평균: 87.00\n",
      "영어 반평균: 84.40\n",
      "수학 반평균: 85.60\n",
      "\n",
      "과목: kor\n",
      "최고점을 받은 학생들\n",
      "번호: 1, 이름: 홍길일, 국어: 90\n",
      "번호: 2, 이름: 홍길이, 국어: 90\n",
      "번호: 4, 이름: 홍길사, 국어: 90\n",
      "\n",
      "실행시간 :  2.3642518520355225\n"
     ]
    }
   ],
   "source": [
    "if __name__ == \"__main__\":\n",
    "    try:\n",
    "        check_parameter()\n",
    "    except WrongStudentRecord as e:\n",
    "        print()\n",
    "        print(e.args[0])\n",
    "        error_case()\n",
    "        "
   ]
  },
  {
   "cell_type": "code",
   "execution_count": 43,
   "metadata": {},
   "outputs": [
    {
     "name": "stdout",
     "output_type": "stream",
     "text": [
      "Overwriting student.txt\n"
     ]
    }
   ],
   "source": [
    "%%writefile student.txt\n",
    "1 홍길일 90 80 \n",
    "2 홍길이 90 85 90\n",
    "3 홍길삼 80 80 80\n",
    "4 홍길사 90 92 83\n",
    "5 홍길오 85 85 90"
   ]
  },
  {
   "cell_type": "code",
   "execution_count": 44,
   "metadata": {},
   "outputs": [
    {
     "name": "stdout",
     "output_type": "stream",
     "text": [
      "\n",
      "잘못된 성적 데이터가 있습니다. \n",
      "성적 처리 시스템이 비정상 종료합니다.\n",
      "\n",
      "총점 반 평균: 0.00\n",
      "국어 반 평균: 0.00\n",
      "영어 반 평균: 0.00\n",
      "수학 반 평균: 0.00\n",
      "\n",
      "실행시간 :  0.0\n"
     ]
    }
   ],
   "source": [
    "if __name__ == \"__main__\":\n",
    "    try:\n",
    "        check_parameter()\n",
    "    except WrongStudentRecord as e:\n",
    "        print()\n",
    "        print(e.args[0])\n",
    "        error_case()\n",
    "        "
   ]
  },
  {
   "cell_type": "code",
   "execution_count": 45,
   "metadata": {},
   "outputs": [
    {
     "name": "stdout",
     "output_type": "stream",
     "text": [
      "Overwriting student.txt\n"
     ]
    }
   ],
   "source": [
    "%%writefile student.txt\n",
    "1 홍길일 90 80 85\n",
    "2 홍길이 A 85 90\n",
    "3 홍길삼 80 80 80\n",
    "4 홍길사 90 92 83\n",
    "5 홍길오 85 85 90"
   ]
  },
  {
   "cell_type": "code",
   "execution_count": 46,
   "metadata": {},
   "outputs": [
    {
     "name": "stdout",
     "output_type": "stream",
     "text": [
      "\n",
      "점수에 숫자가 아닌 부분이 있습니다. \n",
      "성적 처리 시스템이 비정상 종료합니다.\n",
      "\n",
      "총점 반 평균: 0.00\n",
      "국어 반 평균: 0.00\n",
      "영어 반 평균: 0.00\n",
      "수학 반 평균: 0.00\n",
      "\n",
      "실행시간 :  0.0\n"
     ]
    }
   ],
   "source": [
    "if __name__ == \"__main__\":\n",
    "    try:\n",
    "        check_parameter()\n",
    "    except WrongStudentRecord as e:\n",
    "        print()\n",
    "        print(e.args[0])\n",
    "        error_case()"
   ]
  },
  {
   "cell_type": "code",
   "execution_count": 47,
   "metadata": {},
   "outputs": [
    {
     "name": "stdout",
     "output_type": "stream",
     "text": [
      "Overwriting student.txt\n"
     ]
    }
   ],
   "source": [
    "%%writefile student.txt\n",
    "1 홍길일 90 80 -20\n",
    "2 홍길이 90 85 90\n",
    "3 홍길삼 80 80 80\n",
    "4 홍길사 90 92 83\n",
    "5 홍길오 85 85 90"
   ]
  },
  {
   "cell_type": "code",
   "execution_count": 48,
   "metadata": {},
   "outputs": [
    {
     "name": "stdout",
     "output_type": "stream",
     "text": [
      "번호: 2, 이름: 홍길이, 국어: 90, 영어: 85, 수학: 90, 총점: 265, 평균: 88.33, 등수: 1\n",
      "번호: 4, 이름: 홍길사, 국어: 90, 영어: 92, 수학: 83, 총점: 265, 평균: 88.33, 등수: 1\n",
      "번호: 5, 이름: 홍길오, 국어: 85, 영어: 85, 수학: 90, 총점: 260, 평균: 86.67, 등수: 3\n",
      "번호: 3, 이름: 홍길삼, 국어: 80, 영어: 80, 수학: 80, 총점: 240, 평균: 80.00, 등수: 4\n",
      "번호: 1, 이름: 홍길일, 국어: 90, 영어: 80, 수학: -20, 총점: 150, 평균: 50.00, 등수: 5\n",
      "\n",
      "총점 반평균: 236.00\n",
      "국어 반평균: 87.00\n",
      "영어 반평균: 84.40\n",
      "수학 반평균: 64.60\n",
      "\n",
      "수학 점수는 0-100 사이의 숫자여야 합니다. \n",
      "성적 처리 시스템이 비정상 종료합니다.\n",
      "\n",
      "총점 반 평균: 0.00\n",
      "국어 반 평균: 0.00\n",
      "영어 반 평균: 0.00\n",
      "수학 반 평균: 0.00\n",
      "\n",
      "실행시간 :  0.0\n"
     ]
    }
   ],
   "source": [
    "if __name__ == \"__main__\":\n",
    "    try:\n",
    "        check_parameter()\n",
    "    except WrongStudentRecord as e:\n",
    "        print()\n",
    "        print(e.args[0])\n",
    "        error_case()"
   ]
  },
  {
   "cell_type": "code",
   "execution_count": null,
   "metadata": {},
   "outputs": [],
   "source": []
  }
 ],
 "metadata": {
  "kernelspec": {
   "display_name": "Python 3",
   "language": "python",
   "name": "python3"
  },
  "language_info": {
   "codemirror_mode": {
    "name": "ipython",
    "version": 3
   },
   "file_extension": ".py",
   "mimetype": "text/x-python",
   "name": "python",
   "nbconvert_exporter": "python",
   "pygments_lexer": "ipython3",
   "version": "3.6.5"
  }
 },
 "nbformat": 4,
 "nbformat_minor": 2
}
